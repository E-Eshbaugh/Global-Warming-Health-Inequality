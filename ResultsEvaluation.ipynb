{
 "cells": [
  {
   "cell_type": "code",
   "execution_count": null,
   "id": "47a334b2-2bf0-4faf-b813-0a1e345d8380",
   "metadata": {},
   "outputs": [],
   "source": [
    "#imports\n",
    "import pandas as pd\n",
    "import scipy \n",
    "from scipy import stats\n",
    "import sklearn.preprocessing\n",
    "from sklearn.preprocessing import OneHotEncoder\n",
    "import numpy as np\n",
    "from sklearn.preprocessing import StandardScaler\n",
    "from sklearn.linear_model import LinearRegression\n",
    "from sklearn.metrics import mean_absolute_error, mean_squared_error, r2_score\n",
    "from sklearn.model_selection import train_test_split"
   ]
  },
  {
   "cell_type": "code",
   "execution_count": null,
   "id": "4fc310d5-8dc9-495c-ac0c-48985ce8fa52",
   "metadata": {},
   "outputs": [],
   "source": []
  },
  {
   "cell_type": "markdown",
   "id": "b2c04874-4678-4ed8-9e2c-c553b1ffb4ab",
   "metadata": {},
   "source": [
    "# Collection:"
   ]
  },
  {
   "cell_type": "code",
   "execution_count": null,
   "id": "0a32fb21-9181-4496-b200-5e2dd2bf61e6",
   "metadata": {},
   "outputs": [],
   "source": [
    "#imported xlsx files, downloaded from sources"
   ]
  },
  {
   "cell_type": "markdown",
   "id": "60b02920-bd24-4653-8c95-ab19d8dd88ff",
   "metadata": {},
   "source": [
    "# Preprocessing:"
   ]
  },
  {
   "cell_type": "code",
   "execution_count": null,
   "id": "0e75e4c5-e99d-43c8-9a09-a8079e11b52e",
   "metadata": {},
   "outputs": [],
   "source": [
    "#PLAN - find yearly avg global temp, add to each entry according to year, find avg estimate for each unique indicator_name in each year, use the appropriate indicator_names to form a score for inequality and train model on x - temp, year | y-inequality scale\n",
    "\n",
    "df = pd.read_csv('GlobalLandTemperaturesByCountry.csv')\n",
    "df = df.dropna()\n",
    "df = df.drop(columns='AverageTemperatureUncertainty')\n",
    "#dt column -> date: yy/mm/dd\n",
    "#get an average temp for each year\n",
    "df['dt'] = pd.to_datetime(df['dt'])\n",
    "df['year'] = df['dt'].dt.year\n",
    "yearly_avg_temp = df.groupby('year')['AverageTemperature'].mean().reset_index()\n",
    "\n",
    "yearly_temps = yearly_avg_temp.set_index('year')['AverageTemperature'].to_numpy()\n",
    "unique_years_enviro = df['year'].unique()\n",
    "#to get yearly avg temp for a year -> yearly_temps[desired year - 1743]\n",
    "\n",
    "df = pd.read_excel('enviro_data.xlsx')\n",
    "print(df.head())"
   ]
  },
  {
   "cell_type": "code",
   "execution_count": null,
   "id": "799f5461-8ea6-43fb-ac29-b419caea4f16",
   "metadata": {},
   "outputs": [],
   "source": [
    "#target -> health inequality \n",
    "#POA -> for each year, find the average estimate for each indicator_name type\n",
    "# -> then append a yearly_avg_temp column that will contain the avg temp for the year fo the entry\n",
    "df = df.groupby(['date', 'indicator_name'])['estimate'].mean().reset_index()\n",
    "print(df.info())\n",
    "indicator_names = df['indicator_name'].unique()\n",
    "file = open('unique_values.txt', 'w')\n",
    "file.write(str(indicator_names))\n",
    "file.close()\n",
    "\n",
    "file = open('unique_years.txt', 'w')\n",
    "file.write(str(unique_years_enviro))\n",
    "file.close()\n",
    "#relevant columns from the WHO data -> 'date', 'indicator_name', 'subgroup' "
   ]
  },
  {
   "cell_type": "code",
   "execution_count": null,
   "id": "09a629ec-696a-4155-907e-43cf4933b439",
   "metadata": {},
   "outputs": [],
   "source": [
    "df = df[df['date'].isin(unique_years_enviro)]\n",
    "df = df.iloc[:281] #only have temp up to 2013\n",
    "avg_temp_year = []\n",
    "for row in df.itertuples():\n",
    "    avg_temp_year.append(yearly_temps[row.date - 1784])\n",
    "\n",
    "df['avg_yearly_temp'] = avg_temp_year\n",
    "print(df.head())"
   ]
  },
  {
   "cell_type": "code",
   "execution_count": null,
   "id": "b1f5afdb-232a-4dac-affc-d9a4fbfebe98",
   "metadata": {},
   "outputs": [],
   "source": [
    "#noramlize between 0 and 1\n",
    "df['estimate'] = (df['estimate'] - df['estimate'].min())/(df['estimate'].max() - df['estimate'].min())\n",
    "\n",
    "print(df.head())"
   ]
  },
  {
   "cell_type": "code",
   "execution_count": null,
   "id": "cc9f2494-b545-4b8d-b9ff-d6805f77e517",
   "metadata": {},
   "outputs": [],
   "source": [
    "yearly_health_ineq_factors = []\n",
    "estimates = []\n",
    "start_year = 1990\n",
    "unique_years_df = [1990]\n",
    "for row in df.itertuples():\n",
    "    if row.date == start_year:\n",
    "        estimates.append(row.estimate)\n",
    "    else:\n",
    "        total = sum(estimates)\n",
    "        total *= (1/len(estimates))\n",
    "        yearly_health_ineq_factors.append(total)\n",
    "        estimates = []\n",
    "        estimates.append(row.estimate)\n",
    "        start_year += 1\n",
    "        unique_years_df.append(start_year)\n",
    "        \n",
    "estimates = []\n",
    "for row in df.itertuples():\n",
    "    if row.date == 2013:\n",
    "        estimates.append(row.estimate)\n",
    "        \n",
    "total = sum(estimates)\n",
    "total *= (1/len(estimates))\n",
    "yearly_health_ineq_factors.append(total)\n",
    "\n",
    "print(unique_years_df)\n",
    "#put on a scale of 10\n",
    "stand_factors = [10 * (value - min(yearly_health_ineq_factors)) / (max(yearly_health_ineq_factors) - min(yearly_health_ineq_factors)) for value in yearly_health_ineq_factors]"
   ]
  },
  {
   "cell_type": "code",
   "execution_count": null,
   "id": "4f4a3415-b7de-4ef6-a238-5677b8c63623",
   "metadata": {},
   "outputs": [],
   "source": [
    "#standardize temp\n",
    "stand_temps = yearly_temps[-24:]\n",
    "stand_temps = [(value - min(yearly_temps))/(max(yearly_temps) - min(yearly_temps)) for value in stand_temps]"
   ]
  },
  {
   "cell_type": "code",
   "execution_count": null,
   "id": "2df4d518-1c0e-4c5a-9f5b-551c4d2ebdda",
   "metadata": {},
   "outputs": [],
   "source": [
    "df = pd.DataFrame({ 'year': list(range(1990, 2014)), 'health_ineq_factor':stand_factors, 'stand_temp':stand_temps, 'temp':yearly_temps[-24:]})\n",
    "print(df)"
   ]
  },
  {
   "cell_type": "code",
   "execution_count": null,
   "id": "ab48c24a-a2aa-4a03-a838-dbcd853142a0",
   "metadata": {},
   "outputs": [],
   "source": [
    "#Train linear regression model\n",
    "X = df['stand_temp']\n",
    "y = df['health_ineq_factor']\n",
    "X_train, X_test, y_train, y_test = train_test_split(X, y, test_size=0.2, random_state=42)\n",
    "X_train = pd.DataFrame(X_train)\n",
    "y_train = pd.DataFrame(y_train)\n",
    "X_test = pd.DataFrame(X_test)\n",
    "y_test = pd.DataFrame(y_test)\n",
    "linearRegression = LinearRegression(fit_intercept=True)\n",
    "linearRegression.fit(X_train, y_train)\n",
    "\n"
   ]
  },
  {
   "cell_type": "code",
   "execution_count": null,
   "id": "372a75dd-8bd2-4df4-b2f0-a2a9cfc72c4f",
   "metadata": {},
   "outputs": [],
   "source": [
    "y_prediction = linearRegression.predict(X_test)\n",
    "print(y_prediction)\n",
    "mse = mean_squared_error(y_test, y_prediction)\n",
    "r2 = r2_score(y_test, y_prediction)\n",
    "\n",
    "print(f\"Mean Squared Error: {mse}\")\n",
    "print(f\"Root Mean Squared Error: {np.sqrt(mse)}\")\n",
    "print(f\"R-squared: {r2}\")"
   ]
  },
  {
   "cell_type": "code",
   "execution_count": null,
   "id": "377c9e62-611f-4ff8-9a3f-7a62d6918130",
   "metadata": {},
   "outputs": [],
   "source": [
    "malaria = pd.read_csv('global-malaria.csv')\n",
    "malaria.drop([1, 54, 55, 65, 66, 104, 123, 140, 160, 188, 219, 221, 222, 223, 224, 220], inplace=True)\n",
    "malaria.drop('Region', axis=1, inplace=True)\n",
    "malaria.info()"
   ]
  },
  {
   "cell_type": "code",
   "execution_count": null,
   "id": "42fe214b-3798-40bb-9f8c-d7ec4db42570",
   "metadata": {},
   "outputs": [],
   "source": [
    "y = pd.DataFrame(malaria.std())\n",
    "scaler = StandardScaler()\n",
    "\n",
    "y=pd.DataFrame(scaler.fit_transform(y))\n",
    "y.describe()\n",
    "df['health_ineq_factor'] = y[0]\n",
    "df"
   ]
  },
  {
   "cell_type": "code",
   "execution_count": null,
   "id": "bff85c7d-6525-4c73-bb68-6ec065117013",
   "metadata": {},
   "outputs": [],
   "source": [
    "X = df['stand_temp']\n",
    "y = df['health_ineq_factor']\n",
    "X_train, X_test, y_train, y_test = train_test_split(X, y, test_size=0.2, random_state=42)\n",
    "X_train = pd.DataFrame(X_train)\n",
    "y_train = pd.DataFrame(y_train)\n",
    "X_test = pd.DataFrame(X_test)\n",
    "y_test = pd.DataFrame(y_test)\n",
    "linearRegression = LinearRegression(fit_intercept=True)\n",
    "linearRegression.fit(X_train, y_train)\n",
    "\n"
   ]
  },
  {
   "cell_type": "code",
   "execution_count": null,
   "id": "79dadbd9-39b6-4f29-8e07-8d1884b130b9",
   "metadata": {},
   "outputs": [],
   "source": [
    "y_prediction = linearRegression.predict(X_test)\n",
    "print(y_prediction)\n",
    "mse = mean_squared_error(y_test, y_prediction)\n",
    "r2 = r2_score(y_test, y_prediction)\n",
    "\n",
    "print(f\"Mean Squared Error: {mse}\")\n",
    "print(f\"Root Mean Squared Error: {np.sqrt(mse)}\")\n",
    "print(f\"R-squared: {r2}\")"
   ]
  },
  {
   "cell_type": "code",
   "execution_count": null,
   "id": "b7045927-c6c0-4872-9706-6d1d08f98d86",
   "metadata": {},
   "outputs": [],
   "source": []
  }
 ],
 "metadata": {
  "kernelspec": {
   "display_name": "Python 3 (ipykernel)",
   "language": "python",
   "name": "python3"
  },
  "language_info": {
   "codemirror_mode": {
    "name": "ipython",
    "version": 3
   },
   "file_extension": ".py",
   "mimetype": "text/x-python",
   "name": "python",
   "nbconvert_exporter": "python",
   "pygments_lexer": "ipython3",
   "version": "3.9.18"
  }
 },
 "nbformat": 4,
 "nbformat_minor": 5
}
