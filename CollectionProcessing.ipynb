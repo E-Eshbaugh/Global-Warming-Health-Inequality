{
 "cells": [
  {
   "cell_type": "code",
   "execution_count": 1,
   "id": "47a334b2-2bf0-4faf-b813-0a1e345d8380",
   "metadata": {},
   "outputs": [],
   "source": [
    "#imports\n",
    "import pandas as pd\n",
    "import scipy \n",
    "from scipy import stats\n",
    "import sklearn.preprocessing\n",
    "from sklearn.preprocessing import OneHotEncoder\n",
    "import numpy as np\n",
    "from sklearn.preprocessing import StandardScaler\n",
    "import matplotlib.pyplot as plt"
   ]
  },
  {
   "cell_type": "markdown",
   "id": "b2c04874-4678-4ed8-9e2c-c553b1ffb4ab",
   "metadata": {},
   "source": [
    "# Collection:"
   ]
  },
  {
   "cell_type": "code",
   "execution_count": 2,
   "id": "0a32fb21-9181-4496-b200-5e2dd2bf61e6",
   "metadata": {},
   "outputs": [],
   "source": [
    "#imported xlsx files, downloaded from sources"
   ]
  },
  {
   "cell_type": "markdown",
   "id": "60b02920-bd24-4653-8c95-ab19d8dd88ff",
   "metadata": {},
   "source": [
    "# Preprocessing:"
   ]
  },
  {
   "cell_type": "code",
   "execution_count": 3,
   "id": "0e75e4c5-e99d-43c8-9a09-a8079e11b52e",
   "metadata": {},
   "outputs": [
    {
     "name": "stdout",
     "output_type": "stream",
     "text": [
      "                            setting  date                         source  \\\n",
      "0                      Saudi Arabia  2019  WHO Global Health Observatory   \n",
      "1                             Yemen  2019  WHO Global Health Observatory   \n",
      "2                         Lithuania  2019  WHO Global Health Observatory   \n",
      "3                       Switzerland  2019  WHO Global Health Observatory   \n",
      "4  Saint Vincent and the Grenadines  2019  WHO Global Health Observatory   \n",
      "\n",
      "       indicator_abbr                                     indicator_name  \\\n",
      "0  AIR_17_ENVCAUSE000  Household air pollution attributable DALYs (pe...   \n",
      "1  AIR_17_ENVCAUSE000  Household air pollution attributable DALYs (pe...   \n",
      "2  AIR_17_ENVCAUSE000  Household air pollution attributable DALYs (pe...   \n",
      "3  AIR_17_ENVCAUSE000  Household air pollution attributable DALYs (pe...   \n",
      "4  AIR_17_ENVCAUSE000  Household air pollution attributable DALYs (pe...   \n",
      "\n",
      "  dimension subgroup     estimate  se       ci_lb  ...  iso3  \\\n",
      "0       Sex     Male     0.000000 NaN    0.000000  ...   SAU   \n",
      "1       Sex     Male  1766.672119 NaN  806.434875  ...   YEM   \n",
      "2       Sex     Male     0.000000 NaN    0.000000  ...   LTU   \n",
      "3       Sex     Male     0.000000 NaN    0.000000  ...   CHE   \n",
      "4       Sex     Male   293.891571 NaN    3.124040  ...   VCT   \n",
      "\n",
      "   favourable_indicator indicator_scale  ordered_dimension subgroup_order  \\\n",
      "0                     0          100000                  0              0   \n",
      "1                     0          100000                  0              0   \n",
      "2                     0          100000                  0              0   \n",
      "3                     0          100000                  0              0   \n",
      "4                     0          100000                  0              0   \n",
      "\n",
      "   reference_subgroup                whoreg6         wbincome2024  \\\n",
      "0                   1  Eastern Mediterranean          High income   \n",
      "1                   1  Eastern Mediterranean           Low income   \n",
      "2                   1               European          High income   \n",
      "3                   1               European          High income   \n",
      "4                   1               Americas  Upper middle income   \n",
      "\n",
      "        update   dataset_id  \n",
      "0  30 May 2024  rep_gho_env  \n",
      "1  30 May 2024  rep_gho_env  \n",
      "2  30 May 2024  rep_gho_env  \n",
      "3  30 May 2024  rep_gho_env  \n",
      "4  30 May 2024  rep_gho_env  \n",
      "\n",
      "[5 rows x 24 columns]\n"
     ]
    }
   ],
   "source": [
    "#PLAN - find yearly avg global temp, add to each entry according to year, find avg estimate for each unique indicator_name in each year, use the appropriate indicator_names to form a score for inequality and train model on x - temp, year | y-inequality scale\n",
    "\n",
    "df = pd.read_csv('GlobalLandTemperaturesByCountry.csv')\n",
    "df = df.dropna()\n",
    "df = df.drop(columns='AverageTemperatureUncertainty')\n",
    "#dt column -> date: yy/mm/dd\n",
    "#get an average temp for each year\n",
    "df['dt'] = pd.to_datetime(df['dt'])\n",
    "df['year'] = df['dt'].dt.year\n",
    "yearly_avg_temp = df.groupby('year')['AverageTemperature'].mean().reset_index()\n",
    "\n",
    "yearly_temps = yearly_avg_temp.set_index('year')['AverageTemperature'].to_numpy()\n",
    "unique_years_enviro = df['year'].unique()\n",
    "#to get yearly avg temp for a year -> yearly_temps[desired year - 1743]\n",
    "\n",
    "df = pd.read_excel('enviro_data.xlsx')\n",
    "print(df.head())"
   ]
  },
  {
   "cell_type": "code",
   "execution_count": 4,
   "id": "799f5461-8ea6-43fb-ac29-b419caea4f16",
   "metadata": {},
   "outputs": [
    {
     "name": "stdout",
     "output_type": "stream",
     "text": [
      "<class 'pandas.core.frame.DataFrame'>\n",
      "RangeIndex: 459 entries, 0 to 458\n",
      "Data columns (total 3 columns):\n",
      " #   Column          Non-Null Count  Dtype  \n",
      "---  ------          --------------  -----  \n",
      " 0   date            459 non-null    int64  \n",
      " 1   indicator_name  459 non-null    object \n",
      " 2   estimate        459 non-null    float64\n",
      "dtypes: float64(1), int64(1), object(1)\n",
      "memory usage: 10.9+ KB\n",
      "None\n"
     ]
    }
   ],
   "source": [
    "#target -> health inequality \n",
    "#POA -> for each year, find the average estimate for each indicator_name type\n",
    "# -> then append a yearly_avg_temp column that will contain the avg temp for the year fo the entry\n",
    "df = df.groupby(['date', 'indicator_name'])['estimate'].mean().reset_index()\n",
    "print(df.info())\n",
    "indicator_names = df['indicator_name'].unique()\n",
    "file = open('unique_values.txt', 'w')\n",
    "file.write(str(indicator_names))\n",
    "file.close()\n",
    "\n",
    "file = open('unique_years.txt', 'w')\n",
    "file.write(str(unique_years_enviro))\n",
    "file.close()\n",
    "#relevant columns from the WHO data -> 'date', 'indicator_name', 'subgroup' "
   ]
  },
  {
   "cell_type": "code",
   "execution_count": 5,
   "id": "09a629ec-696a-4155-907e-43cf4933b439",
   "metadata": {},
   "outputs": [
    {
     "name": "stdout",
     "output_type": "stream",
     "text": [
      "   date                                     indicator_name   estimate  \\\n",
      "0  1990  Population with primary reliance on biomass fo...  46.111466   \n",
      "1  1990  Population with primary reliance on charcoal f...   5.958083   \n",
      "2  1990  Population with primary reliance on clean fuel...  53.233639   \n",
      "3  1990  Population with primary reliance on coal for c...   1.835902   \n",
      "4  1990  Population with primary reliance on electricit...   5.129699   \n",
      "\n",
      "   avg_yearly_temp  \n",
      "0         18.85564  \n",
      "1         18.85564  \n",
      "2         18.85564  \n",
      "3         18.85564  \n",
      "4         18.85564  \n"
     ]
    }
   ],
   "source": [
    "df = df[df['date'].isin(unique_years_enviro)]\n",
    "df = df.iloc[:281] #only have temp up to 2013\n",
    "avg_temp_year = []\n",
    "for row in df.itertuples():\n",
    "    avg_temp_year.append(yearly_temps[row.date - 1784])\n",
    "\n",
    "df['avg_yearly_temp'] = avg_temp_year\n",
    "print(df.head())"
   ]
  },
  {
   "cell_type": "code",
   "execution_count": 6,
   "id": "b1f5afdb-232a-4dac-affc-d9a4fbfebe98",
   "metadata": {},
   "outputs": [
    {
     "name": "stdout",
     "output_type": "stream",
     "text": [
      "   date                                     indicator_name  estimate  \\\n",
      "0  1990  Population with primary reliance on biomass fo...  0.537405   \n",
      "1  1990  Population with primary reliance on charcoal f...  0.062276   \n",
      "2  1990  Population with primary reliance on clean fuel...  0.621680   \n",
      "3  1990  Population with primary reliance on coal for c...  0.013499   \n",
      "4  1990  Population with primary reliance on electricit...  0.052474   \n",
      "\n",
      "   avg_yearly_temp  \n",
      "0         18.85564  \n",
      "1         18.85564  \n",
      "2         18.85564  \n",
      "3         18.85564  \n",
      "4         18.85564  \n"
     ]
    }
   ],
   "source": [
    "#noramlize between 0 and 1\n",
    "df['estimate'] = (df['estimate'] - df['estimate'].min())/(df['estimate'].max() - df['estimate'].min())\n",
    "\n",
    "print(df.head())"
   ]
  },
  {
   "cell_type": "code",
   "execution_count": 7,
   "id": "cc9f2494-b545-4b8d-b9ff-d6805f77e517",
   "metadata": {},
   "outputs": [
    {
     "name": "stdout",
     "output_type": "stream",
     "text": [
      "[1990, 1991, 1992, 1993, 1994, 1995, 1996, 1997, 1998, 1999, 2000, 2001, 2002, 2003, 2004, 2005, 2006, 2007, 2008, 2009, 2010, 2011, 2012, 2013]\n"
     ]
    }
   ],
   "source": [
    "yearly_health_ineq_factors = []\n",
    "estimates = []\n",
    "start_year = 1990\n",
    "unique_years_df = [1990]\n",
    "for row in df.itertuples():\n",
    "    if row.date == start_year:\n",
    "        estimates.append(row.estimate)\n",
    "    else:\n",
    "        total = sum(estimates)\n",
    "        total *= (1/len(estimates))\n",
    "        yearly_health_ineq_factors.append(total)\n",
    "        estimates = []\n",
    "        estimates.append(row.estimate)\n",
    "        start_year += 1\n",
    "        unique_years_df.append(start_year)\n",
    "        \n",
    "estimates = []\n",
    "for row in df.itertuples():\n",
    "    if row.date == 2013:\n",
    "        estimates.append(row.estimate)\n",
    "        \n",
    "total = sum(estimates)\n",
    "total *= (1/len(estimates))\n",
    "yearly_health_ineq_factors.append(total)\n",
    "\n",
    "print(unique_years_df)\n",
    "#put on a scale of 10\n",
    "stand_factors = [10 * (value - min(yearly_health_ineq_factors)) / (max(yearly_health_ineq_factors) - min(yearly_health_ineq_factors)) for value in yearly_health_ineq_factors]"
   ]
  },
  {
   "cell_type": "code",
   "execution_count": 8,
   "id": "4f4a3415-b7de-4ef6-a238-5677b8c63623",
   "metadata": {},
   "outputs": [],
   "source": [
    "#standardize temp\n",
    "stand_temps = yearly_temps[-24:]\n",
    "stand_temps = [(value - min(yearly_temps))/(max(yearly_temps) - min(yearly_temps)) for value in stand_temps]"
   ]
  },
  {
   "cell_type": "code",
   "execution_count": 9,
   "id": "2df4d518-1c0e-4c5a-9f5b-551c4d2ebdda",
   "metadata": {},
   "outputs": [
    {
     "name": "stdout",
     "output_type": "stream",
     "text": [
      "    year  health_ineq_factor  stand_temp       temp\n",
      "0   1990            0.000000    0.969750  19.317686\n",
      "1   1991            0.058337    0.953183  19.011360\n",
      "2   1992            0.111932    0.951054  18.972007\n",
      "3   1993            0.160216    0.948826  18.930800\n",
      "4   1994            0.205358    0.966181  19.251702\n",
      "5   1995            0.246369    0.967012  19.267070\n",
      "6   1996            0.280697    0.950317  18.958375\n",
      "7   1997            0.312264    0.966108  19.250351\n",
      "8   1998            0.340043    0.984844  19.596783\n",
      "9   1999            0.364337    0.973774  19.392100\n",
      "10  2000            8.381418    0.971454  19.349202\n",
      "11  2001            8.473816    0.975570  19.425303\n",
      "12  2002            8.569708    0.983154  19.565523\n",
      "13  2003            8.678418    0.980967  19.525087\n",
      "14  2004            8.556895    0.975397  19.422092\n",
      "15  2005            9.164237    0.979588  19.499590\n",
      "16  2006            9.603049    0.981727  19.539135\n",
      "17  2007            9.617150    0.985581  19.610394\n",
      "18  2008            9.822654    0.975498  19.423962\n",
      "19  2009           10.000000    0.982119  19.546385\n",
      "20  2010            9.432504    0.986630  19.629806\n",
      "21  2011            9.555688    0.977233  19.456040\n",
      "22  2012            9.624875    0.977920  19.468744\n",
      "23  2013            9.749451    1.000000  19.877007\n"
     ]
    }
   ],
   "source": [
    "df = pd.DataFrame({ 'year': list(range(1990, 2014)), 'health_ineq_factor':stand_factors, 'stand_temp':stand_temps, 'temp':yearly_temps[-24:]})\n",
    "print(df)"
   ]
  },
  {
   "cell_type": "code",
   "execution_count": 10,
   "id": "0e514482-8bd8-4aab-b0e7-75fcabedf92e",
   "metadata": {},
   "outputs": [
    {
     "data": {
      "text/html": [
       "<div>\n",
       "<style scoped>\n",
       "    .dataframe tbody tr th:only-of-type {\n",
       "        vertical-align: middle;\n",
       "    }\n",
       "\n",
       "    .dataframe tbody tr th {\n",
       "        vertical-align: top;\n",
       "    }\n",
       "\n",
       "    .dataframe thead th {\n",
       "        text-align: right;\n",
       "    }\n",
       "</style>\n",
       "<table border=\"1\" class=\"dataframe\">\n",
       "  <thead>\n",
       "    <tr style=\"text-align: right;\">\n",
       "      <th></th>\n",
       "      <th>year</th>\n",
       "      <th>health_ineq_factor</th>\n",
       "      <th>stand_temp</th>\n",
       "      <th>temp</th>\n",
       "    </tr>\n",
       "  </thead>\n",
       "  <tbody>\n",
       "    <tr>\n",
       "      <th>count</th>\n",
       "      <td>24.000000</td>\n",
       "      <td>24.000000</td>\n",
       "      <td>24.000000</td>\n",
       "      <td>24.000000</td>\n",
       "    </tr>\n",
       "    <tr>\n",
       "      <th>mean</th>\n",
       "      <td>2001.500000</td>\n",
       "      <td>5.471226</td>\n",
       "      <td>0.973495</td>\n",
       "      <td>19.386938</td>\n",
       "    </tr>\n",
       "    <tr>\n",
       "      <th>std</th>\n",
       "      <td>7.071068</td>\n",
       "      <td>4.565103</td>\n",
       "      <td>0.012776</td>\n",
       "      <td>0.236224</td>\n",
       "    </tr>\n",
       "    <tr>\n",
       "      <th>min</th>\n",
       "      <td>1990.000000</td>\n",
       "      <td>0.000000</td>\n",
       "      <td>0.948826</td>\n",
       "      <td>18.930800</td>\n",
       "    </tr>\n",
       "    <tr>\n",
       "      <th>25%</th>\n",
       "      <td>1995.750000</td>\n",
       "      <td>0.272115</td>\n",
       "      <td>0.966805</td>\n",
       "      <td>19.263228</td>\n",
       "    </tr>\n",
       "    <tr>\n",
       "      <th>50%</th>\n",
       "      <td>2001.500000</td>\n",
       "      <td>8.515356</td>\n",
       "      <td>0.975534</td>\n",
       "      <td>19.424633</td>\n",
       "    </tr>\n",
       "    <tr>\n",
       "      <th>75%</th>\n",
       "      <td>2007.250000</td>\n",
       "      <td>9.567528</td>\n",
       "      <td>0.981825</td>\n",
       "      <td>19.540948</td>\n",
       "    </tr>\n",
       "    <tr>\n",
       "      <th>max</th>\n",
       "      <td>2013.000000</td>\n",
       "      <td>10.000000</td>\n",
       "      <td>1.000000</td>\n",
       "      <td>19.877007</td>\n",
       "    </tr>\n",
       "  </tbody>\n",
       "</table>\n",
       "</div>"
      ],
      "text/plain": [
       "              year  health_ineq_factor  stand_temp       temp\n",
       "count    24.000000           24.000000   24.000000  24.000000\n",
       "mean   2001.500000            5.471226    0.973495  19.386938\n",
       "std       7.071068            4.565103    0.012776   0.236224\n",
       "min    1990.000000            0.000000    0.948826  18.930800\n",
       "25%    1995.750000            0.272115    0.966805  19.263228\n",
       "50%    2001.500000            8.515356    0.975534  19.424633\n",
       "75%    2007.250000            9.567528    0.981825  19.540948\n",
       "max    2013.000000           10.000000    1.000000  19.877007"
      ]
     },
     "execution_count": 10,
     "metadata": {},
     "output_type": "execute_result"
    }
   ],
   "source": [
    "# Summary statistics\n",
    "df.describe()"
   ]
  },
  {
   "cell_type": "code",
   "execution_count": 11,
   "id": "c3f36c5c-6eba-4815-9582-7c0beb2e4d35",
   "metadata": {},
   "outputs": [],
   "source": [
    "# Convert to numpy arrays for vizualization\n",
    "stand_factors = np.array(stand_factors)\n",
    "stand_temps = np.array(stand_temps)\n",
    "years = np.array(list(range(1990, 2014)))"
   ]
  },
  {
   "cell_type": "code",
   "execution_count": 12,
   "id": "ea34bfd0-9e6e-4be0-8a6d-3ffdf78da631",
   "metadata": {},
   "outputs": [
    {
     "data": {
      "image/png": "[encoded data removed]",
      "text/plain": [
       "<Figure size 1000x600 with 1 Axes>"
      ]
     },
     "metadata": {},
     "output_type": "display_data"
    }
   ],
   "source": [
    "# Plot Temperature over time\n",
    "m, b = np.polyfit(years, stand_temps, 1)\n",
    "\n",
    "plt.figure(figsize=(10, 6))\n",
    "plt.plot(years, m * years + b, color='blue', linewidth=2)\n",
    "plt.scatter(list(range(1990, 2014)), stand_temps, c='red', marker='o', s=50)\n",
    "plt.xlabel('Time')\n",
    "plt.ylabel('Temperature')\n",
    "plt.title('Global Temperature Over Time (Standardized)')\n",
    "plt.show()"
   ]
  },
  {
   "cell_type": "code",
   "execution_count": 13,
   "id": "37eb42a0-921b-4c5f-ae55-8f4bd375cec8",
   "metadata": {},
   "outputs": [
    {
     "data": {
      "image/png": "[encoded data removed]",
      "text/plain": [
       "<Figure size 640x480 with 1 Axes>"
      ]
     },
     "metadata": {},
     "output_type": "display_data"
    }
   ],
   "source": [
    "# Plot inequality over time\n",
    "plt.scatter(list(range(1990, 2014)), stand_factors, c='red', marker='o', s=50)\n",
    "plt.xlabel('Time')\n",
    "plt.ylabel('Health Inequality')\n",
    "plt.title('Health Inequality Over Time (Standardized)')\n",
    "\n",
    "plt.show()"
   ]
  },
  {
   "cell_type": "code",
   "execution_count": 14,
   "id": "9800d41b-17d4-4fe2-9541-c71a76ad4b12",
   "metadata": {},
   "outputs": [
    {
     "data": {
      "image/png": "[encoded data removed]",
      "text/plain": [
       "<Figure size 1000x600 with 1 Axes>"
      ]
     },
     "metadata": {},
     "output_type": "display_data"
    }
   ],
   "source": [
    "# Plot Inequality dependent on temperature\n",
    "m, b = np.polyfit(stand_temps, stand_factors, 1)\n",
    "\n",
    "plt.figure(figsize=(10, 6))\n",
    "plt.scatter(stand_temps, stand_factors, c='red', marker='o', s=50)\n",
    "plt.xlabel('Temperature')\n",
    "plt.ylabel('Health Inequality')\n",
    "plt.title('Health Inequality and Global Temperature (Standardized)')\n",
    "plt.show()"
   ]
  },
  {
   "cell_type": "code",
   "execution_count": null,
   "id": "c2221bc9-ada8-4ca8-9aaa-7a25de635534",
   "metadata": {},
   "outputs": [],
   "source": []
  }
 ],
 "metadata": {
  "kernelspec": {
   "display_name": "Python 3",
   "language": "python",
   "name": "python3"
  },
  "language_info": {
   "codemirror_mode": {
    "name": "ipython",
    "version": 3
   },
   "file_extension": ".py",
   "mimetype": "text/x-python",
   "name": "python",
   "nbconvert_exporter": "python",
   "pygments_lexer": "ipython3",
   "version": "3.11.9"
  }
 },
 "nbformat": 4,
 "nbformat_minor": 5
}
